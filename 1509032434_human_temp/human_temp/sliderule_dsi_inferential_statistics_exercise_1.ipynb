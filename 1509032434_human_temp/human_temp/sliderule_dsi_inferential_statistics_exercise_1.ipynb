{
 "cells": [
  {
   "cell_type": "markdown",
   "metadata": {},
   "source": [
    "# What is the True Normal Human Body Temperature? \n",
    "\n",
    "#### Background\n",
    "\n",
    "The mean normal body temperature was held to be 37$^{\\circ}$C or 98.6$^{\\circ}$F for more than 120 years since it was first conceptualized and reported by Carl Wunderlich in a famous 1868 book. But, is this value statistically correct?"
   ]
  },
  {
   "cell_type": "markdown",
   "metadata": {},
   "source": [
    "<h3>Exercises</h3>\n",
    "\n",
    "<p>In this exercise, you will analyze a dataset of human body temperatures and employ the concepts of hypothesis testing, confidence intervals, and statistical significance.</p>\n",
    "\n",
    "<p>Answer the following questions <b>in this notebook below and submit to your Github account</b>.</p> \n",
    "\n",
    "<ol>\n",
    "<li>  Is the distribution of body temperatures normal? \n",
    "    <ul>\n",
    "    <li> Although this is not a requirement for CLT to hold (read CLT carefully), it gives us some peace of mind that the population may also be normally distributed if we assume that this sample is representative of the population.\n",
    "    </ul>\n",
    "<li>  Is the sample size large? Are the observations independent?\n",
    "    <ul>\n",
    "    <li> Remember that this is a condition for the CLT, and hence the statistical tests we are using, to apply.\n",
    "    </ul>\n",
    "<li>  Is the true population mean really 98.6 degrees F?\n",
    "    <ul>\n",
    "    <li> Would you use a one-sample or two-sample test? Why?\n",
    "    <li> In this situation, is it appropriate to use the $t$ or $z$ statistic? \n",
    "    <li> Now try using the other test. How is the result be different? Why?\n",
    "    </ul>\n",
    "<li>  Draw a small sample of size 10 from the data and repeat both tests. \n",
    "    <ul>\n",
    "    <li> Which one is the correct one to use? \n",
    "    <li> What do you notice? What does this tell you about the difference in application of the $t$ and $z$ statistic?\n",
    "    </ul>\n",
    "<li>  At what temperature should we consider someone's temperature to be \"abnormal\"?\n",
    "    <ul>\n",
    "    <li> Start by computing the margin of error and confidence interval.\n",
    "    </ul>\n",
    "<li>  Is there a significant difference between males and females in normal temperature?\n",
    "    <ul>\n",
    "    <li> What test did you use and why?\n",
    "    <li> Write a story with your conclusion in the context of the original problem.\n",
    "    </ul>\n",
    "</ol>\n",
    "\n",
    "You can include written notes in notebook cells using Markdown: \n",
    "   - In the control panel at the top, choose Cell > Cell Type > Markdown\n",
    "   - Markdown syntax: http://nestacms.com/docs/creating-content/markdown-cheat-sheet\n",
    "\n",
    "#### Resources\n",
    "\n",
    "+ Information and data sources: http://www.amstat.org/publications/jse/datasets/normtemp.txt, http://www.amstat.org/publications/jse/jse_data_archive.htm\n",
    "+ Markdown syntax: http://nestacms.com/docs/creating-content/markdown-cheat-sheet\n",
    "\n",
    "****"
   ]
  },
  {
   "cell_type": "code",
   "execution_count": 4,
   "metadata": {
    "collapsed": true
   },
   "outputs": [],
   "source": [
    "import pandas as pd\n",
    "import numpy as np\n",
    "%matplotlib inline\n",
    "import matplotlib.pyplot as plt\n",
    "df = pd.read_csv('data/human_body_temperature.csv')"
   ]
  },
  {
   "cell_type": "markdown",
   "metadata": {},
   "source": [
    "### Question 1. Is the distribution of body temperatures normal?\n",
    "<ul>\n",
    "<li> According to the PDF and CDF of body temperature, it approximately follows normal distribution.\n",
    "</ul>"
   ]
  },
  {
   "cell_type": "code",
   "execution_count": 5,
   "metadata": {
    "collapsed": true,
    "scrolled": false
   },
   "outputs": [],
   "source": [
    "def ecdf(data):\n",
    "    \"\"\"Compute ECDF for a one-dimensional array of measurements.\"\"\"\n",
    "\n",
    "    # Number of data points: n\n",
    "    n = len(data)\n",
    "\n",
    "    # x-data for the ECDF: x\n",
    "    x = np.sort(data)\n",
    "\n",
    "    # y-data for the ECDF: y\n",
    "    y = np.arange(1, n+1) / n\n",
    "\n",
    "    return x, y"
   ]
  },
  {
   "cell_type": "code",
   "execution_count": 6,
   "metadata": {
    "scrolled": true
   },
   "outputs": [
    {
     "name": "stdout",
     "output_type": "stream",
     "text": [
      "Mean of temperature is:  98.24923076923078\n",
      "Standard deviation of temperature is:  0.7303577789050377\n"
     ]
    },
    {
     "data": {
      "image/png": "[encoded data removed]",
      "text/plain": [
       "<matplotlib.figure.Figure at 0x1e81982f550>"
      ]
     },
     "metadata": {},
     "output_type": "display_data"
    }
   ],
   "source": [
    "mean = np.mean(df['temperature'])\n",
    "std = np.std(df['temperature'])\n",
    "samples = np.random.normal(mean,std,100000)\n",
    "x_theor, y_theor = ecdf(samples)\n",
    "x, y = ecdf(df['temperature'])\n",
    "print('Mean of temperature is: ', mean)\n",
    "print('Standard deviation of temperature is: ', std)\n",
    "_ = plt.plot(x, y, marker='.', linestyle='none')\n",
    "_ = plt.plot(x_theor, y_theor)\n",
    "_ = plt.xlabel('Temperature')\n",
    "_ = plt.ylabel('CDF')"
   ]
  },
  {
   "cell_type": "code",
   "execution_count": 7,
   "metadata": {
    "scrolled": false
   },
   "outputs": [
    {
     "data": {
      "image/png": "[encoded data removed]",
      "text/plain": [
       "<matplotlib.figure.Figure at 0x1e819824d30>"
      ]
     },
     "metadata": {},
     "output_type": "display_data"
    }
   ],
   "source": [
    "samples_pdf = np.random.normal(mean,std,100000)\n",
    "_ = plt.hist(df['temperature'],bins=20,histtype='step',normed=True)\n",
    "_ = plt.hist(samples,bins=200,histtype='step',normed=True)\n",
    "_ = plt.xlabel('Temperature')\n",
    "_ = plt.ylabel('PDF')"
   ]
  },
  {
   "cell_type": "markdown",
   "metadata": {},
   "source": [
    "### Question 2.\n",
    "<ul>\n",
    "<li> Is the sample size large? \n",
    "     <ul>\n",
    "     <li> Since the sample roughly follows normal distribution, it's large enough for z-test. And the size is 130.\n",
    "     </ul>\n",
    "<li> Are the observations independent?\n",
    "     <ul>\n",
    "     <li> According to the pearson_r and correlation hypothesis tests, the observations are independent.\n",
    "     </ul>\n",
    "</ul>"
   ]
  },
  {
   "cell_type": "code",
   "execution_count": 10,
   "metadata": {
    "collapsed": true
   },
   "outputs": [],
   "source": [
    "def pearson_r(x, y):\n",
    "    \"\"\"Compute Pearson correlation coefficient between two arrays.\"\"\"\n",
    "    corr_mat = np.corrcoef(x,y)\n",
    "    return corr_mat[0,1]"
   ]
  },
  {
   "cell_type": "code",
   "execution_count": 14,
   "metadata": {
    "scrolled": true
   },
   "outputs": [
    {
     "name": "stdout",
     "output_type": "stream",
     "text": [
      "Sample size is:  130\n"
     ]
    }
   ],
   "source": [
    "print('Sample size is: ',len(df))"
   ]
  },
  {
   "cell_type": "code",
   "execution_count": 15,
   "metadata": {},
   "outputs": [
    {
     "name": "stdout",
     "output_type": "stream",
     "text": [
      "0.253656402721\n",
      "p-val = 0.0023\n"
     ]
    }
   ],
   "source": [
    "r_obs_th = pearson_r(df['temperature'], df['heart_rate'])\n",
    "print(r_obs_th)\n",
    "perm_replicates_th = np.empty(10000)\n",
    "# Draw replicates\n",
    "for i in range(10000):\n",
    "    # Permute illiteracy measurments: illiteracy_permuted\n",
    "    temperature_permuted = np.random.permutation(df['temperature'])\n",
    "    # Compute Pearson correlation\n",
    "    perm_replicates_th[i] = pearson_r(temperature_permuted, df['heart_rate'])\n",
    "# Compute p-value: p\n",
    "p_th = np.sum(perm_replicates_th >= r_obs_th)/len(perm_replicates_th)\n",
    "print('p-val =', p_th)"
   ]
  },
  {
   "cell_type": "code",
   "execution_count": 17,
   "metadata": {},
   "outputs": [
    {
     "name": "stdout",
     "output_type": "stream",
     "text": [
      "0.198006222145\n",
      "p-val = 0.0118\n"
     ]
    }
   ],
   "source": [
    "r_obs_tg = pearson_r(df['temperature'],gender)\n",
    "print(r_obs_tg)\n",
    "perm_replicates_tg = np.empty(10000)\n",
    "for i in range(10000):\n",
    "    # Permute illiteracy measurments: illiteracy_permuted\n",
    "    temperature_permuted = np.random.permutation(df['temperature'])\n",
    "    # Compute Pearson correlation\n",
    "    perm_replicates_tg[i] = pearson_r(temperature_permuted, gender)\n",
    "# Compute p-value: p\n",
    "p_tg = np.sum(perm_replicates_tg >= r_obs_tg)/len(perm_replicates_tg)\n",
    "print('p-val =', p_tg)"
   ]
  },
  {
   "cell_type": "code",
   "execution_count": 18,
   "metadata": {},
   "outputs": [
    {
     "name": "stdout",
     "output_type": "stream",
     "text": [
      "0.0557662206054\n",
      "p-val = 0.0014\n"
     ]
    },
    {
     "name": "stderr",
     "output_type": "stream",
     "text": [
      "C:\\Users\\Alexander\\Anaconda3\\lib\\site-packages\\ipykernel\\__main__.py:10: RuntimeWarning: invalid value encountered in greater_equal\n"
     ]
    }
   ],
   "source": [
    "r_obs_hg = pearson_r(df['heart_rate'],gender)\n",
    "print(r_obs_hg)\n",
    "perm_replicates_hg = np.empty(10000)\n",
    "for i in range(10000):\n",
    "    # Permute illiteracy measurments: illiteracy_permuted\n",
    "    heart_rate_permuted = np.random.permutation(df['heart_rate'])\n",
    "    # Compute Pearson correlation\n",
    "    perm_replicates_tg[i] = pearson_r(heart_rate_permuted, gender)\n",
    "# Compute p-value: p\n",
    "p_hg = np.sum(perm_replicates_hg >= r_obs_th)/len(perm_replicates_hg)\n",
    "print('p-val =', p_hg)"
   ]
  },
  {
   "cell_type": "markdown",
   "metadata": {},
   "source": [
    "According to the correlation hypothesis tests above, we can draw the conclusion that columns in this dataset are independent."
   ]
  },
  {
   "cell_type": "markdown",
   "metadata": {},
   "source": [
    "### Question 3. Is the true population mean really 98.6 degrees F?\n",
    "<ul>\n",
    "<li> Would you use a one-sample or two-sample test? Why?\n",
    "    <ul>\n",
    "    <li> In this case, I'll use one-sample test, because it compares a data set to a single number.\n",
    "    </ul>\n",
    "<li> In this situation, is it appropriate to use the $t$ or $z$ statistic? \n",
    "    <ul>\n",
    "    <li> Both are Okay, because the sample approximately follows normal distribution. And since the size of sample is relatively large, so it's appropriate to us $z$ statistic.\n",
    "    </ul>\n",
    "<li> Now try using the other test. How is the result be different? Why?\n",
    "    <ul>\n",
    "    <li> P value of $t$ test is a little bit larger than $z$ test in this case. Because the size of sample influences the standard error of mean.\n",
    "    </ul>\n",
    "</ul>"
   ]
  },
  {
   "cell_type": "code",
   "execution_count": 19,
   "metadata": {
    "collapsed": true
   },
   "outputs": [],
   "source": [
    "def bootstrap_replicate_1d(data,func):\n",
    "    bs_sample = np.random.choice(data,len(data))\n",
    "    return func(bs_sample)"
   ]
  },
  {
   "cell_type": "code",
   "execution_count": 20,
   "metadata": {
    "collapsed": true
   },
   "outputs": [],
   "source": [
    "def draw_bs_reps(data,func,size=1):\n",
    "    bs = np.empty(size)\n",
    "    for i in range(size):\n",
    "        bs[i] = bootstrap_replicate_1d(data,func)\n",
    "    return bs"
   ]
  },
  {
   "cell_type": "code",
   "execution_count": 21,
   "metadata": {
    "scrolled": true
   },
   "outputs": [
    {
     "name": "stdout",
     "output_type": "stream",
     "text": [
      "SEM is:  0.0640566146952\n",
      "Standard deviation is:  0.0647271333374\n"
     ]
    },
    {
     "data": {
      "image/png": "[encoded data removed]",
      "text/plain": [
       "<matplotlib.figure.Figure at 0x1e819824b38>"
      ]
     },
     "metadata": {},
     "output_type": "display_data"
    }
   ],
   "source": [
    "bs_replicates_3 = draw_bs_reps(df['temperature'],np.mean,size=10000)\n",
    "\n",
    "# Compute and print SEM\n",
    "sem = np.std(df['temperature']) / np.sqrt(len(df['temperature']))\n",
    "print('SEM is: ', sem)\n",
    "\n",
    "# Compute and print standard deviation of bootstrap replicates\n",
    "bs_std = np.std(bs_replicates_3)\n",
    "print('Standard deviation is: ', bs_std)\n",
    "\n",
    "# Make a histogram of the results\n",
    "_ = plt.hist(bs_replicates_3, bins=50, normed=True)\n",
    "_ = plt.xlabel('mean temperature')\n",
    "_ = plt.ylabel('PDF')\n",
    "\n",
    "# Show the plot\n",
    "plt.show()"
   ]
  },
  {
   "cell_type": "code",
   "execution_count": 22,
   "metadata": {
    "scrolled": false
   },
   "outputs": [
    {
     "data": {
      "image/png": "[encoded data removed]",
      "text/plain": [
       "<matplotlib.figure.Figure at 0x1e81af577f0>"
      ]
     },
     "metadata": {},
     "output_type": "display_data"
    }
   ],
   "source": [
    "mean_bs_3 = np.mean(bs_replicates_3)\n",
    "std_bs_3 = np.std(bs_replicates_3)\n",
    "samples_3 = np.random.normal(mean_bs_3,std_bs_3,10000)\n",
    "x_theor_3, y_theor_3 = ecdf(samples_3)\n",
    "x, y = ecdf(bs_replicates_3)\n",
    "_ = plt.plot(x, y, marker='.', linestyle='none')\n",
    "_ = plt.plot(x_theor_3, y_theor_3)\n",
    "_ = plt.xlabel('Temperature')\n",
    "_ = plt.ylabel('CDF')"
   ]
  },
  {
   "cell_type": "markdown",
   "metadata": {},
   "source": [
    "In this situation, it is appropriate to use the t or z statistic, because the value of mean is approximately a normal distribution."
   ]
  },
  {
   "cell_type": "code",
   "execution_count": 23,
   "metadata": {},
   "outputs": [
    {
     "name": "stdout",
     "output_type": "stream",
     "text": [
      "5.47592520208\n"
     ]
    }
   ],
   "source": [
    "z_score = (98.6 - np.mean(df['temperature']))/sem\n",
    "print(z_score)"
   ]
  },
  {
   "cell_type": "code",
   "execution_count": 24,
   "metadata": {},
   "outputs": [
    {
     "name": "stdout",
     "output_type": "stream",
     "text": [
      "4.35231517493e-08\n"
     ]
    }
   ],
   "source": [
    "from scipy import stats\n",
    "p = (1-stats.norm.cdf(z_score))*2\n",
    "print(p)"
   ]
  },
  {
   "cell_type": "markdown",
   "metadata": {},
   "source": [
    "According to the two side p value, 98.6 F is significantly higher than the mean of random sample."
   ]
  },
  {
   "cell_type": "code",
   "execution_count": 25,
   "metadata": {
    "scrolled": true
   },
   "outputs": [
    {
     "name": "stdout",
     "output_type": "stream",
     "text": [
      "5.45482329236\n"
     ]
    }
   ],
   "source": [
    "t_score = (98.6 - np.mean(df['temperature']))/((np.std(df['temperature'], ddof = 1))/np.sqrt(len(df['temperature'])))\n",
    "print(t_score)"
   ]
  },
  {
   "cell_type": "code",
   "execution_count": 26,
   "metadata": {
    "scrolled": true
   },
   "outputs": [
    {
     "name": "stdout",
     "output_type": "stream",
     "text": [
      "2.41063204156e-07\n"
     ]
    }
   ],
   "source": [
    "p = stats.t.sf(np.abs(t_score), len(df['temperature'])-1)*2\n",
    "print(p)"
   ]
  },
  {
   "cell_type": "markdown",
   "metadata": {},
   "source": [
    "According to the t_score, z_score and p value, 98.6 F is significantly higher than the mean of random sample."
   ]
  },
  {
   "cell_type": "markdown",
   "metadata": {},
   "source": [
    "### Question 4. Draw a small sample of size 10 from the data and repeat both tests. \n",
    "<ul>\n",
    "<li> Which one is the correct one to use? \n",
    "    <ul>\n",
    "    <li> $t$ test is the correct one, because the size is too small.\n",
    "    </ul>\n",
    "<li> What do you notice? What does this tell you about the difference in application of the $t$ and $z$ statistic?\n",
    "    <ul>\n",
    "    <li> Both t and z test are Okay, but the t test is better in this case, because it doesn't require a standard deviation, and generate a larger p value. When the sample size is small, it's difficult to know if it follows a Gausan normal distribution, so t test is a better choice.\n",
    "    </ul>\n",
    "</ul>"
   ]
  },
  {
   "cell_type": "code",
   "execution_count": 27,
   "metadata": {},
   "outputs": [
    {
     "name": "stdout",
     "output_type": "stream",
     "text": [
      "[  99.1   98.6   98.2  100.8   99.    97.8   98.6   97.2   98.2   98.2]\n"
     ]
    }
   ],
   "source": [
    "small_sample = np.random.choice(df['temperature'],size=10)\n",
    "print(small_sample)"
   ]
  },
  {
   "cell_type": "code",
   "execution_count": 45,
   "metadata": {
    "scrolled": false
   },
   "outputs": [
    {
     "name": "stdout",
     "output_type": "stream",
     "text": [
      "98.57\n",
      "SEM of small sample is:  0.288461435897\n",
      "z_score of small sample is:  0.104000036978\n",
      "p value is:  0.917169319226\n"
     ]
    }
   ],
   "source": [
    "mean_small = np.mean(small_sample)\n",
    "sem_small = np.std(small_sample) / np.sqrt(len(small_sample))\n",
    "z_score_small = (98.6 - np.mean(small_sample))/sem_small\n",
    "from scipy import stats\n",
    "p = (1-stats.norm.cdf(z_score_small))*2\n",
    "print(mean_small)\n",
    "print('SEM of small sample is: ',sem_small)\n",
    "print('z_score of small sample is: ',z_score_small)\n",
    "print('p value is: ',p)"
   ]
  },
  {
   "cell_type": "code",
   "execution_count": 46,
   "metadata": {},
   "outputs": [
    {
     "name": "stdout",
     "output_type": "stream",
     "text": [
      "T score of small sample is:  0.0986630980774\n",
      "P value is:  0.921558917068\n"
     ]
    }
   ],
   "source": [
    "t_score = (98.6 - np.mean(small_sample))/((np.std(small_sample, ddof = 1))/np.sqrt(len(small_sample)))\n",
    "print('T score of small sample is: ',t_score)\n",
    "p = stats.t.sf(np.abs(t_score), len(df['temperature'])-1)*2\n",
    "print('P value is: ',p)"
   ]
  },
  {
   "cell_type": "markdown",
   "metadata": {},
   "source": [
    "According to the p value we get from z test and t test, it is not significantly small, so the alternate hypothesis is acceptable, and we can think of 98.6 degree F as mean of this small sample. "
   ]
  },
  {
   "cell_type": "markdown",
   "metadata": {},
   "source": [
    "### Question 5. At what temperature should we consider someone's temperature to be \"abnormal\"?\n",
    "<ul>\n",
    "<li> Start by computing the margin of error and confidence interval.\n",
    "    <ul>\n",
    "    <li> I would like to consider temperature out of the range [98.1223, 98.3777] as 'abnormal'.\n",
    "    </ul>\n",
    "</ul>"
   ]
  },
  {
   "cell_type": "code",
   "execution_count": 31,
   "metadata": {},
   "outputs": [
    {
     "name": "stdout",
     "output_type": "stream",
     "text": [
      "95% confidence interval = [ 98.12230769  98.37769231]\n",
      "Margin of error = 0.125550964803\n"
     ]
    },
    {
     "data": {
      "image/png": "[encoded data removed]",
      "text/plain": [
       "<matplotlib.figure.Figure at 0x1e81b9c7a90>"
      ]
     },
     "metadata": {},
     "output_type": "display_data"
    }
   ],
   "source": [
    "# Compute the 95% confidence interval: conf_int\n",
    "margin_of_error = 1.96 * np.std(df['temperature']) / np.sqrt(len(df['temperature'])) \n",
    "conf_int = np.percentile(bs_replicates_3,[2.5,97.5])\n",
    "\n",
    "# Print the confidence interval\n",
    "print('95% confidence interval =', conf_int)\n",
    "print('Margin of error =', margin_of_error)\n",
    "# Plot the histogram of the replicates\n",
    "_ = plt.hist(bs_replicates_3, bins=50, normed=True)\n",
    "_ = plt.xlabel(r'$\\tau$')\n",
    "_ = plt.ylabel('PDF')\n",
    "\n",
    "# Show the plot\n",
    "plt.show()"
   ]
  },
  {
   "cell_type": "markdown",
   "metadata": {},
   "source": [
    "### Question 6. Is there a significant difference between males and females in normal temperature?\n",
    "<ul>\n",
    "<li> Since the p value is significantly small, there's no significant difference between males and females in normal temperature.\n",
    "\n",
    "<li> What test did you use and why?\n",
    "    <ul>\n",
    "    <li> Draw permutation replicates to test the difference of mean hypothesis, because the difference of mean of the samples may be generated by chance.\n",
    "    </ul>\n",
    "<li> Write a story with your conclusion in the context of the original problem.\n",
    "    <ul>\n",
    "    <li> It's difficult to say what is the true normal human being temperature, and I can only assume hypothesis and then draw conclusion according to this sample.\n",
    "         Body temperature is independent to gender and heart rate, and the mean of body temperature is 98.24923076923078 degree F, and 95% confidence interval is [98.12230769  98.37769231]. So we can consider the body temperature out of the confidence interval as abonormal.\n",
    "         Finally, there's no significant difference between males and females in normal temperature.\n",
    "    </ul>\n",
    "</ul>"
   ]
  },
  {
   "cell_type": "code",
   "execution_count": 49,
   "metadata": {
    "collapsed": true
   },
   "outputs": [],
   "source": [
    "def diff_of_mean(x, y):\n",
    "    return (np.mean(x) - np.mean(y))"
   ]
  },
  {
   "cell_type": "code",
   "execution_count": 50,
   "metadata": {
    "collapsed": true
   },
   "outputs": [],
   "source": [
    "def permutation_sample(data1, data2):\n",
    "    \"\"\"Generate a permutation sample from two data sets.\"\"\"\n",
    "\n",
    "    # Concatenate the data sets: data\n",
    "    data = np.concatenate((data1, data2))\n",
    "\n",
    "    # Permute the concatenated array: permuted_data\n",
    "    permuted_data = np.random.permutation(data)\n",
    "\n",
    "    # Split the permuted array into two: perm_sample_1, perm_sample_2\n",
    "    perm_sample_1 = permuted_data[:len(data1)]\n",
    "    perm_sample_2 = permuted_data[len(data1):]\n",
    "\n",
    "    return perm_sample_1, perm_sample_2"
   ]
  },
  {
   "cell_type": "code",
   "execution_count": 51,
   "metadata": {
    "collapsed": true
   },
   "outputs": [],
   "source": [
    "def draw_perm_reps(data_1, data_2, func, size=1):\n",
    "    \"\"\"Generate multiple permutation replicates.\"\"\"\n",
    "\n",
    "    # Initialize array of replicates: perm_replicates\n",
    "    perm_replicates = np.empty(size)\n",
    "\n",
    "    for i in range(size):\n",
    "        # Generate permutation sample\n",
    "        perm_sample_1, perm_sample_2 = permutation_sample(data_1,data_2)\n",
    "\n",
    "        # Compute the test statistic\n",
    "        perm_replicates[i] = func(perm_sample_1,perm_sample_2)\n",
    "\n",
    "    return perm_replicates"
   ]
  },
  {
   "cell_type": "code",
   "execution_count": 52,
   "metadata": {
    "collapsed": true
   },
   "outputs": [],
   "source": [
    "temperature_female = df[df['gender']=='F']['temperature']\n",
    "temperature_male = df[df['gender']=='M']['temperature']"
   ]
  },
  {
   "cell_type": "code",
   "execution_count": 56,
   "metadata": {
    "scrolled": false
   },
   "outputs": [
    {
     "name": "stdout",
     "output_type": "stream",
     "text": [
      "Difference of mean of female and male's temperature is:  0.289230769230727\n"
     ]
    }
   ],
   "source": [
    "diff_mean_gender = diff_of_mean(temperature_female,temperature_male)\n",
    "print('Difference of mean of female and male\\'s temperature is: ', diff_mean_gender)"
   ]
  },
  {
   "cell_type": "code",
   "execution_count": 62,
   "metadata": {
    "scrolled": true
   },
   "outputs": [
    {
     "name": "stdout",
     "output_type": "stream",
     "text": [
      "P value is:  0.0146\n"
     ]
    }
   ],
   "source": [
    "temp_female_shifted = temperature_female - np.mean(temperature_female) + np.mean(df['temperature'])\n",
    "temp_male_shifted = temperature_female - np.mean(temperature_female) + np.mean(df['temperature'])\n",
    "perm_replicates_gender = draw_perm_reps(temp_female_shifted,temp_male_shifted,diff_of_mean,size=10000)\n",
    "p = np.sum(perm_replicates_gender > diff_mean_gender)/len(perm_replicates_gender)\n",
    "print('P value is: ',p)"
   ]
  }
 ],
 "metadata": {
  "kernelspec": {
   "display_name": "Python [conda root]",
   "language": "python",
   "name": "conda-root-py"
  },
  "language_info": {
   "codemirror_mode": {
    "name": "ipython",
    "version": 3
   },
   "file_extension": ".py",
   "mimetype": "text/x-python",
   "name": "python",
   "nbconvert_exporter": "python",
   "pygments_lexer": "ipython3",
   "version": "3.6.2"
  }
 },
 "nbformat": 4,
 "nbformat_minor": 1
}
